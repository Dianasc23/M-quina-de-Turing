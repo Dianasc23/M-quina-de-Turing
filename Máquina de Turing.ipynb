{
 "cells": [
  {
   "cell_type": "markdown",
   "id": "45346fc5",
   "metadata": {},
   "source": [
    "![maquinaDeTuring](https://mctp.mx/mt-content/uploads/2020/03/thumbnails/banner8-2020_l_1200x675.png)\n",
    "\n"
   ]
  },
  {
   "cell_type": "markdown",
   "id": "20110084",
   "metadata": {},
   "source": [
    "# Máquina de Turing"
   ]
  },
  {
   "cell_type": "markdown",
   "id": "26eea4b2",
   "metadata": {},
   "source": [
    "## Definición\n",
    "\n",
    "Es un modelo matemático de computación que define una hipotética máquina capaz de manipular símbolos en una cinta de acuerdo con un conjunto de reglas. Fue introducida por el matemático Alan Turing en 1936 y es fundamental en la teoría de la computación.\n",
    "Las Máquinas de Turing han inspirado el desarrollo de lenguajes de programación, compiladores y algoritmos, proporcionando un marco teórico sólido para entender la computación.\n",
    "\n",
    "Para crear el codigo comenzamos definiendo: "
   ]
  },
  {
   "cell_type": "code",
   "execution_count": 3,
   "id": "8f26d084",
   "metadata": {},
   "outputs": [],
   "source": [
    "def maquina_de_turing(cinta):"
   ]
  },
  {
   "cell_type": "markdown",
   "id": "8ee7e17d",
   "metadata": {},
   "source": [
    "### Inicialización: \n",
    "El cabezal comienza en la posición 0 y el estado inicial es 'q0'."
   ]
  },
  {
   "cell_type": "code",
   "execution_count": 3,
   "id": "506e4048",
   "metadata": {},
   "outputs": [],
   "source": [
    "#Estado inicial\n",
    "estado = 'q0'\n",
    "\n",
    "# Posición inicial del cabezal\n",
    "cabezal = 0"
   ]
  },
  {
   "cell_type": "markdown",
   "id": "ace7ccde",
   "metadata": {},
   "source": [
    "### Bucle de Ejecución:\n",
    "La máquina entra en un bucle que continúa hasta que alcanza un estado de aceptación ('q_aceptar') o rechazo ('q_rechazar')."
   ]
  },
  {
   "cell_type": "code",
   "execution_count": null,
   "id": "35aa0949",
   "metadata": {},
   "outputs": [],
   "source": [
    "while estado != 'q_aceptar' and estado != 'q_rechazar':"
   ]
  },
  {
   "cell_type": "markdown",
   "id": "e5b981c3",
   "metadata": {},
   "source": [
    "### Lectura y Escritura de Símbolos: \n",
    "En cada iteración del bucle, el símbolo bajo el cabezal es leído y se realizan acciones basadas en el estado actual y el símbolo leído."
   ]
  },
  {
   "cell_type": "code",
   "execution_count": null,
   "id": "111902bf",
   "metadata": {},
   "outputs": [],
   "source": [
    "# Lee el símbolo actual\n",
    "simbolo_actual = cinta[cabezal]\n",
    "\n",
    "# Escribe un símbolo en la cinta\n",
    "cinta[cabezal] = 'B'"
   ]
  },
  {
   "cell_type": "markdown",
   "id": "2cea19c3",
   "metadata": {},
   "source": [
    "### Cambiar Estado\n",
    "Dependiendo del símbolo y del estado, la máquina puede cambiar a un nuevo estado."
   ]
  },
  {
   "cell_type": "code",
   "execution_count": 11,
   "id": "0791ecae",
   "metadata": {},
   "outputs": [],
   "source": [
    "# Cambiar al estado q1\n",
    "estado = 'q1'"
   ]
  },
  {
   "cell_type": "markdown",
   "id": "d810b23e",
   "metadata": {},
   "source": [
    "### Mover Cabezal \n",
    "El cabezal puede moverse a la derecha (cabezal += 1).\n",
    "#### Escribir Símbolo\n",
    "El símbolo en la posición actual de la cinta puede ser cambiado (por ejemplo, de '0' a 'B')."
   ]
  },
  {
   "cell_type": "code",
   "execution_count": null,
   "id": "703654b9",
   "metadata": {},
   "outputs": [],
   "source": [
    "# Cambiar el símbolo en la posición actual de la cinta\n",
    "cinta[cabezal] = 'B'"
   ]
  },
  {
   "cell_type": "markdown",
   "id": "7f198359",
   "metadata": {},
   "source": [
    "## Aceptación y Rechazo\n",
    "Estado de Aceptación: Si la máquina alcanza el estado 'q_aceptar', se considera que la cadena de entrada es aceptada.\n",
    "\n",
    "Estado de Rechazo: Si la máquina alcanza el estado 'q_rechazar', la cadena es rechazada.\n",
    "\n",
    "Terminación del Bucle: El bucle también puede terminar si el cabezal se mueve fuera de los límites de la cinta, en cuyo caso el estado en ese momento determina el resultado final."
   ]
  },
  {
   "cell_type": "code",
   "execution_count": null,
   "id": "4f347da0",
   "metadata": {},
   "outputs": [],
   "source": [
    "if estado == 'q_aceptar':\n",
    "    # Cuando la máquina llega a la aceptación\n",
    "    \n",
    "if estado == 'q_rechazar':\n",
    "    # Cuando la máquina llega al rechazo\n",
    "    \n",
    "if cabezal < 0 or cabezal >= len(cinta):\n",
    "    break\n",
    "    # Acciones cuando el cabezal se mueve fuera de los límites de la cinta"
   ]
  },
  {
   "cell_type": "markdown",
   "id": "bdce1233",
   "metadata": {},
   "source": [
    "Procesa una cadena binaria y decide si debe aceptar o rechazar la cadena basada en una serie de reglas simples."
   ]
  },
  {
   "cell_type": "markdown",
   "id": "0bc60fea",
   "metadata": {},
   "source": [
    "# Código "
   ]
  },
  {
   "cell_type": "code",
   "execution_count": 2,
   "id": "e06a586d",
   "metadata": {
    "scrolled": false
   },
   "outputs": [
    {
     "name": "stdout",
     "output_type": "stream",
     "text": [
      "Resultado: q0\n"
     ]
    }
   ],
   "source": [
    "def maquina_de_turing(cinta):\n",
    "    cinta = list(cinta)\n",
    "    estado = 'q0'\n",
    "    cabezal = 0\n",
    "    \n",
    "    while estado != 'q_aceptar' and estado != 'q_rechazar':\n",
    "        if cabezal < 0 or cabezal >= len(cinta):\n",
    "            break\n",
    "\n",
    "        simbolo_actual = cinta[cabezal]\n",
    "        \n",
    "        if estado == 'q0':\n",
    "            if simbolo_actual == '0':\n",
    "                cinta[cabezal] = 'B'\n",
    "                cabezal += 1\n",
    "                estado = 'q1'\n",
    "            elif simbolo_actual == '1':\n",
    "                cabezal += 1\n",
    "            else:\n",
    "                estado = 'q_aceptar'\n",
    "        \n",
    "        else:\n",
    "            if simbolo_actual == '0':\n",
    "                cinta[cabezal] = 'B'\n",
    "                cabezal += 1\n",
    "                estado = 'q0'\n",
    "            elif simbolo_actual == '1':\n",
    "                cabezal += 1\n",
    "            else:\n",
    "                estado = 'q_rechazar'\n",
    "    \n",
    "    return estado\n",
    "\n",
    "cinta = \"001100\"\n",
    "resultado = maquina_de_turing(cinta)\n",
    "print(\"Resultado:\", resultado)\n"
   ]
  },
  {
   "cell_type": "markdown",
   "id": "bbb18831",
   "metadata": {},
   "source": [
    "Estado inicial: q0, Cabezal: 0, Cinta: [\"0\", \"0\", \"1\", \"1\", \"0\", \"0\"]\n",
    "\n",
    "Símbolo actual: 0\n",
    "\n",
    "Símbolo actual: 0\n",
    "\n",
    "Símbolo actual: 1\n",
    "\n",
    "Símbolo actual: 1\n",
    "\n",
    "Símbolo actual: 0\n",
    "\n",
    "Símbolo actual: 0\n",
    "\n",
    "Al final imprimirá q0"
   ]
  },
  {
   "cell_type": "markdown",
   "id": "09e13dac",
   "metadata": {},
   "source": [
    "Demuestra ejecutando mediante la manipulación de símbolos en una cinta, el movimiento de un cabezal de lectura o escritura y la transición entre diferentes estados. Esta máquina es un modelo teórico que fundamenta a la mayoría de los conceptos modernos de computación y algoritmos."
   ]
  }
 ],
 "metadata": {
  "kernelspec": {
   "display_name": "Python 3 (ipykernel)",
   "language": "python",
   "name": "python3"
  },
  "language_info": {
   "codemirror_mode": {
    "name": "ipython",
    "version": 3
   },
   "file_extension": ".py",
   "mimetype": "text/x-python",
   "name": "python",
   "nbconvert_exporter": "python",
   "pygments_lexer": "ipython3",
   "version": "3.11.5"
  }
 },
 "nbformat": 4,
 "nbformat_minor": 5
}
